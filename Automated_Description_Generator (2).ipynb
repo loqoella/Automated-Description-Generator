{
  "nbformat": 4,
  "nbformat_minor": 0,
  "metadata": {
    "colab": {
      "name": "Automated Description Generator.ipynb",
      "provenance": [],
      "collapsed_sections": []
    },
    "kernelspec": {
      "name": "python3",
      "display_name": "Python 3"
    },
    "accelerator": "GPU"
  },
  "cells": [
    {
      "cell_type": "markdown",
      "metadata": {
        "id": "KuPeoSqUbbIQ",
        "colab_type": "text"
      },
      "source": [
        "# Data Preprocessing"
      ]
    },
    {
      "cell_type": "markdown",
      "metadata": {
        "id": "lM0szNibalIm",
        "colab_type": "text"
      },
      "source": [
        "## Download Dataset"
      ]
    },
    {
      "cell_type": "code",
      "metadata": {
        "id": "EOpdu424SBXH",
        "colab_type": "code",
        "outputId": "54a23dd1-8788-4c4e-e946-1abe726f8a70",
        "colab": {
          "base_uri": "https://localhost:8080/",
          "height": 176
        }
      },
      "source": [
        "!pip install -U -q PyDrive\n",
        "from pydrive.auth import GoogleAuth\n",
        "from pydrive.drive import GoogleDrive\n",
        "from google.colab import auth\n",
        "from oauth2client.client import GoogleCredentials\n",
        "# Authenticate and create the PyDrive client.\n",
        "auth.authenticate_user()\n",
        "gauth = GoogleAuth()\n",
        "gauth.credentials = GoogleCredentials.get_application_default()\n",
        "drive = GoogleDrive(gauth)\n",
        "#Diff and Message for Training\n",
        "id = '1gaDee3qP_OUhpFsFrAXR1QtoLdAqbteS'\n",
        "downloaded = drive.CreateFile({'id':id}) \n",
        "downloaded.GetContentFile('train_diff_26208.csv')\n",
        "\n",
        "id = '1GhbL0M2kIzSMuSKRgloH8-NtCjXViq2O'\n",
        "downloaded = drive.CreateFile({'id':id}) \n",
        "downloaded.GetContentFile('train_msg_26208.csv')\n",
        "\n",
        "#Diff and Message for Testing\n",
        "id = '1BZf1hw9ugqXI3VWVZDbmRr0P4qn8qh6D'\n",
        "downloaded = drive.CreateFile({'id':id}) \n",
        "downloaded.GetContentFile('test_diff_3000.csv')\n",
        "\n",
        "id = '181xwJV5nVLrMEzRr9hqPQBFJmkbpAzBG'\n",
        "downloaded = drive.CreateFile({'id':id}) \n",
        "downloaded.GetContentFile('test_msg_3000.csv')\n",
        "\n",
        "import pandas as pd\n",
        "\n",
        "df_diff_train = pd.read_csv('train_diff_26208.csv', sep=\"\\r\\t\", header=None)\n",
        "df_msg_train = pd.read_csv('train_msg_26208.csv', sep=\"\\r\\t\", header=None)\n",
        "df_diff_test = pd.read_csv('test_diff_3000.csv', sep=\"\\r\\t\", header=None)\n",
        "df_msg_test = pd.read_csv('test_msg_3000.csv', sep=\"\\r\\t\", header=None)\n",
        "\n",
        "\n",
        "diff_train = df_diff_train[0].tolist()\n",
        "msg_train = df_msg_train[0].tolist()\n",
        "diff_test = df_diff_test[0].tolist()\n",
        "msg_test = df_msg_test[0].tolist()\n",
        " \n",
        "\n",
        "print(\"Training:\", len(diff_train), len(msg_train))\n",
        "print(\"Testing:\", len(diff_test), len(msg_test))\n",
        "\n",
        "\n",
        "print(diff_train[0])\n",
        "\n",
        "print(msg_train[0])"
      ],
      "execution_count": 1,
      "outputs": [
        {
          "output_type": "stream",
          "text": [
            "/usr/local/lib/python3.6/dist-packages/ipykernel_launcher.py:31: ParserWarning: Falling back to the 'python' engine because the 'c' engine does not support regex separators (separators > 1 char and different from '\\s+' are interpreted as regex); you can avoid this warning by specifying engine='python'.\n",
            "/usr/local/lib/python3.6/dist-packages/ipykernel_launcher.py:32: ParserWarning: Falling back to the 'python' engine because the 'c' engine does not support regex separators (separators > 1 char and different from '\\s+' are interpreted as regex); you can avoid this warning by specifying engine='python'.\n"
          ],
          "name": "stderr"
        },
        {
          "output_type": "stream",
          "text": [
            "Training: 26208 26208\n",
            "Testing: 3000 3000\n",
            "new file mode 100755 <nl> index 0000000 . . d125c52 <nl> Binary files / dev / null and b / art / intro . png differ <nl>\n",
            "Added intro image .\n"
          ],
          "name": "stdout"
        },
        {
          "output_type": "stream",
          "text": [
            "/usr/local/lib/python3.6/dist-packages/ipykernel_launcher.py:33: ParserWarning: Falling back to the 'python' engine because the 'c' engine does not support regex separators (separators > 1 char and different from '\\s+' are interpreted as regex); you can avoid this warning by specifying engine='python'.\n",
            "/usr/local/lib/python3.6/dist-packages/ipykernel_launcher.py:34: ParserWarning: Falling back to the 'python' engine because the 'c' engine does not support regex separators (separators > 1 char and different from '\\s+' are interpreted as regex); you can avoid this warning by specifying engine='python'.\n"
          ],
          "name": "stderr"
        }
      ]
    },
    {
      "cell_type": "code",
      "metadata": {
        "id": "hfv-P-M5MI5K",
        "colab_type": "code",
        "colab": {}
      },
      "source": [
        "id = '17sIU8iKhq3Nln8BrrrOoD-SwoVGmmpV3'\n",
        "downloaded = drive.CreateFile({'id':id}) \n",
        "downloaded.GetContentFile('AutoNet2.pt')"
      ],
      "execution_count": 0,
      "outputs": []
    },
    {
      "cell_type": "code",
      "metadata": {
        "id": "-g8LBE5nnA8G",
        "colab_type": "code",
        "colab": {}
      },
      "source": [
        ""
      ],
      "execution_count": 0,
      "outputs": []
    },
    {
      "cell_type": "markdown",
      "metadata": {
        "id": "1_I823I_ryRx",
        "colab_type": "text"
      },
      "source": [
        "## Data Preprocessing\n"
      ]
    },
    {
      "cell_type": "code",
      "metadata": {
        "id": "h-NKd71QSBk9",
        "colab_type": "code",
        "outputId": "de511ec9-4f45-422c-daed-9c6fe8dfe487",
        "colab": {
          "base_uri": "https://localhost:8080/",
          "height": 121
        }
      },
      "source": [
        "import re\n",
        "import nltk\n",
        "nltk.download('punkt')\n",
        "nltk.download('stopwords')\n",
        "nltk.download('wordnet')\n",
        "from nltk.corpus import stopwords as sw\n",
        "from nltk.tokenize import word_tokenize\n",
        "from nltk.stem import WordNetLemmatizer\n",
        "#For diff, we only want to keep the text; For Commit Message, we keep the whole sentences.\n",
        "\n",
        "# diff & msg: Case Folding\n",
        "diff_train = [i.lower() for i in diff_train]\n",
        "msg_train = [i.lower() for i in msg_train]\n",
        "diff_test = [i.lower() for i in diff_test]\n",
        "msg_test = [i.lower() for i in msg_test]\n",
        "\n",
        "# diff & msg: Punctuation Removal\n",
        "def remove_punctuation(x):\n",
        "  #remove '<nl>' label \n",
        "  cleaner = re.compile('<.*?>')\n",
        "  x = re.sub(cleaner,'', x) \n",
        "  x = re.sub(r'[^\\w\\s]','', x)\n",
        "  return x\n",
        "\n",
        "diff_train = [remove_punctuation(i) for i in diff_train]\n",
        "msg_train = [remove_punctuation(i) for i in msg_train]\n",
        "diff_test = [remove_punctuation(i) for i in diff_test]\n",
        "msg_test = [remove_punctuation(i) for i in msg_test]\n",
        "# for s in range(0,5):\n",
        "#   print(diff_train[s]) \n",
        "  \n",
        "# diff: Remove the \"mmm a\"\n",
        "for i in range(0,len(diff_train)):\n",
        "  if \"mmm a\" in diff_train[i]:\n",
        "    diff_train[i]=diff_train[i].replace(\"mmm a  \",\"\")\n",
        "\n",
        "# for s in range(0,10):\n",
        "#   print(diff_train[s]) \n",
        "\n",
        "# diff & msg: Tokenization\n",
        "diff_train = [word_tokenize(i) for i in diff_train]\n",
        "msg_train = [word_tokenize(i) for i in msg_train]\n",
        "diff_test = [word_tokenize(i) for i in diff_test]\n",
        "msg_test = [word_tokenize(i) for i in msg_test]\n",
        "\n",
        "# for s in range(0,5):\n",
        "#   print(diff_train[s]) \n",
        "\n",
        "# diff & msg: Stopwords Removal\n",
        "stop_words = sw.words()\n",
        "diff_train_remove_stopwords=[]\n",
        "for diffs in diff_train:\n",
        "    filtered_diffs = [i for i in diffs if not i in stop_words]\n",
        "    diff_train_remove_stopwords.append(filtered_diffs)\n",
        "\n",
        "msg_train_remove_stopwords=[]\n",
        "for msgs in msg_train:\n",
        "    filtered_msgs = [i for i in msgs if not i in stop_words]\n",
        "    msg_train_remove_stopwords.append(filtered_msgs)\n",
        "\n",
        "diff_test_remove_stopwords=[]\n",
        "for diffs in diff_test:\n",
        "    filtered_diffs = [i for i in diffs if not i in stop_words]\n",
        "    diff_test_remove_stopwords.append(filtered_diffs)\n",
        "\n",
        "msg_test_remove_stopwords=[]\n",
        "for msgs in msg_test:\n",
        "    filtered_msgs = [i for i in msgs if not i in stop_words]\n",
        "    msg_test_remove_stopwords.append(filtered_msgs)\n",
        "\n",
        "# for s in range(0,5):\n",
        "#   print(diff_train_remove_stopwords[s]) \n",
        "\n",
        "#Lemmatisation\n",
        "lemmatizer = WordNetLemmatizer()\n",
        "diff_train_lemmatisation = []\n",
        "for tokens in diff_train_remove_stopwords:\n",
        "    lemma_sentence = [lemmatizer.lemmatize(w) for w in tokens ]\n",
        "    diff_train_lemmatisation.append(lemma_sentence)\n",
        "\n",
        "msg_train_lemmatisation = []\n",
        "for tokens in msg_train_remove_stopwords:\n",
        "    lemma_sentences = [lemmatizer.lemmatize(w) for w in tokens ]\n",
        "    msg_train_lemmatisation.append(lemma_sentences)\n",
        "\n",
        "diff_test_lemmatisation = []\n",
        "for tokens in diff_test_remove_stopwords:\n",
        "    lemma_sentence = [lemmatizer.lemmatize(w) for w in tokens ]\n",
        "    diff_test_lemmatisation.append(lemma_sentence)\n",
        "\n",
        "msg_test_lemmatisation = []\n",
        "for tokens in msg_test_remove_stopwords:\n",
        "    lemma_sentences = [lemmatizer.lemmatize(w) for w in tokens ]\n",
        "    msg_test_lemmatisation.append(lemma_sentences)"
      ],
      "execution_count": 2,
      "outputs": [
        {
          "output_type": "stream",
          "text": [
            "[nltk_data] Downloading package punkt to /root/nltk_data...\n",
            "[nltk_data]   Package punkt is already up-to-date!\n",
            "[nltk_data] Downloading package stopwords to /root/nltk_data...\n",
            "[nltk_data]   Package stopwords is already up-to-date!\n",
            "[nltk_data] Downloading package wordnet to /root/nltk_data...\n",
            "[nltk_data]   Package wordnet is already up-to-date!\n"
          ],
          "name": "stdout"
        }
      ]
    },
    {
      "cell_type": "code",
      "metadata": {
        "id": "o89XvT3Jcc6M",
        "colab_type": "code",
        "colab": {}
      },
      "source": [
        "import json\n",
        "import torch\n",
        "\n",
        "json.dump(diff_train_lemmatisation, open('diff_train_lemmatisation.json', 'w'))\n",
        "json.dump(msg_train_lemmatisation, open('msg_train_lemmatisation.json', 'w'))\n",
        "json.dump(diff_test_lemmatisation, open('diff_test_lemmatisation.json', 'w'))\n",
        "json.dump(msg_test_lemmatisation, open('msg_test_lemmatisation.json', 'w'))\n"
      ],
      "execution_count": 0,
      "outputs": []
    },
    {
      "cell_type": "code",
      "metadata": {
        "id": "eI8vDMCXcdHd",
        "colab_type": "code",
        "colab": {}
      },
      "source": [
        "import json\n",
        "\n",
        "diff_train_lemmatisation = json.load(open('diff_train_lemmatisation.json'))\n",
        "msg_train_lemmatisation = json.load(open('msg_train_lemmatisation.json'))\n",
        "diff_test_lemmatisation = json.load(open('diff_test_lemmatisation.json'))\n",
        "msg_test_lemmatisation = json.load(open('msg_test_lemmatisation.json'))\n"
      ],
      "execution_count": 0,
      "outputs": []
    },
    {
      "cell_type": "markdown",
      "metadata": {
        "id": "MlcEQ-oiYS2p",
        "colab_type": "text"
      },
      "source": [
        "Word Frequency in diffs"
      ]
    },
    {
      "cell_type": "markdown",
      "metadata": {
        "id": "tRCPO9sRjSjD",
        "colab_type": "text"
      },
      "source": [
        "Lots of \"words\" in the diffs are class name, function name or variable name in the code. We want to clean the data and remove the words with low frequency."
      ]
    },
    {
      "cell_type": "code",
      "metadata": {
        "id": "vbgamf_7R-tK",
        "colab_type": "code",
        "outputId": "3f7ee5eb-d84f-4c8f-ca90-ba5d1a61e259",
        "colab": {
          "base_uri": "https://localhost:8080/",
          "height": 989
        }
      },
      "source": [
        "import matplotlib\n",
        "import matplotlib.pyplot as plt\n",
        "#check the distribution of words, <50 low-frequency words and >=50 high-frequency words\n",
        "# total 61550; <50: 60266; >50: 1284\n",
        "word_dic = {}\n",
        "for diffs in diff_train_lemmatisation:\n",
        "  for i in diffs:\n",
        "    word_dic[i] = word_dic.get(i, 0) + 1\n",
        "for diffs in diff_test_lemmatisation:\n",
        "  for i in diffs:\n",
        "    word_dic[i] = word_dic.get(i, 0) + 1\n",
        "print (len(word_dic))\n",
        "\n",
        "frequency = []\n",
        "for i, num in word_dic.items():\n",
        "  frequency.append(num)\n",
        "\n",
        "plt.figure(0)\n",
        "plt.xlabel('Word Frequency')\n",
        "plt.ylabel('#Unique Words')\n",
        "plt.title('Distribution')\n",
        "plt.hist(frequency, bins = 10)\n",
        "\n",
        "# <50 60266\n",
        "low_frequency = []\n",
        "for i in frequency:\n",
        "  if i < 50:\n",
        "    low_frequency.append(i)\n",
        "print(len(low_frequency))\n",
        "\n",
        "plt.figure(1)\n",
        "plt.xlabel('Word Frequency')\n",
        "plt.ylabel('#Unique Words')\n",
        "plt.title('Low-Frequency-Word Distribution')\n",
        "plt.hist(low_frequency, bins = 10)\n",
        "\n",
        "# >=50 1284\n",
        "high_frequency = []\n",
        "for i in frequency:\n",
        "  if i >= 50:\n",
        "    high_frequency.append(i)\n",
        "print(len(high_frequency))\n",
        "\n",
        "plt.figure(2)\n",
        "plt.xlabel('Word Frequency')\n",
        "plt.ylabel('#Unique Words')\n",
        "plt.title('High-Frequency-Word Distribution')\n",
        "plt.hist(high_frequency, bins = 10)"
      ],
      "execution_count": 5,
      "outputs": [
        {
          "output_type": "stream",
          "text": [
            "61550\n",
            "60266\n",
            "1284\n"
          ],
          "name": "stdout"
        },
        {
          "output_type": "execute_result",
          "data": {
            "text/plain": [
              "(array([1.237e+03, 2.700e+01, 1.100e+01, 3.000e+00, 2.000e+00, 2.000e+00,\n",
              "        0.000e+00, 0.000e+00, 1.000e+00, 1.000e+00]),\n",
              " array([   50. ,  2924.5,  5799. ,  8673.5, 11548. , 14422.5, 17297. ,\n",
              "        20171.5, 23046. , 25920.5, 28795. ]),\n",
              " <a list of 10 Patch objects>)"
            ]
          },
          "metadata": {
            "tags": []
          },
          "execution_count": 5
        },
        {
          "output_type": "display_data",
          "data": {
            "image/png": "[encoded data removed]",
            "text/plain": [
              "<Figure size 432x288 with 1 Axes>"
            ]
          },
          "metadata": {
            "tags": [],
            "needs_background": "light"
          }
        },
        {
          "output_type": "display_data",
          "data": {
            "image/png": "[encoded data removed]",
            "text/plain": [
              "<Figure size 432x288 with 1 Axes>"
            ]
          },
          "metadata": {
            "tags": [],
            "needs_background": "light"
          }
        },
        {
          "output_type": "display_data",
          "data": {
            "image/png": "[encoded data removed]",
            "text/plain": [
              "<Figure size 432x288 with 1 Axes>"
            ]
          },
          "metadata": {
            "tags": [],
            "needs_background": "light"
          }
        }
      ]
    },
    {
      "cell_type": "markdown",
      "metadata": {
        "id": "3oNGsWIxhrLN",
        "colab_type": "text"
      },
      "source": [
        "Less-Frequency Words Removal"
      ]
    },
    {
      "cell_type": "markdown",
      "metadata": {
        "id": "WKooxrnPkUUz",
        "colab_type": "text"
      },
      "source": [
        "We will remove the words which appears less than 10 times"
      ]
    },
    {
      "cell_type": "code",
      "metadata": {
        "id": "5fdxvH_jhrl4",
        "colab_type": "code",
        "colab": {}
      },
      "source": [
        "filtered_diff_train = []\n",
        "for words in diff_train_lemmatisation:\n",
        "  frequent_words = []\n",
        "  for word in words:\n",
        "    if word_dic[word] >= 10:\n",
        "      frequent_words.append(word)\n",
        "  filtered_diff_train.append(frequent_words)\n",
        "\n",
        "filtered_diff_test = [] \n",
        "for words in diff_test_lemmatisation:\n",
        "  frequent_words = []\n",
        "  for word in words:\n",
        "    if word_dic[word] >= 10:\n",
        "      frequent_words.append(word)\n",
        "  filtered_diff_test.append(frequent_words)\n",
        "\n",
        "# for i in range(0,10):\n",
        "#   print(filtered_diff_train[i])"
      ],
      "execution_count": 0,
      "outputs": []
    },
    {
      "cell_type": "markdown",
      "metadata": {
        "id": "GCL18yzAn8h_",
        "colab_type": "text"
      },
      "source": [
        "We need to create classification labels for each data Since there are 1006 Java project, we just set 1006 projects."
      ]
    },
    {
      "cell_type": "code",
      "metadata": {
        "id": "7aeIMhS-n87I",
        "colab_type": "code",
        "outputId": "98e3c57e-5ee2-4bd4-dc3e-a37afab055a7",
        "colab": {
          "base_uri": "https://localhost:8080/",
          "height": 34
        }
      },
      "source": [
        "import random\n",
        "\n",
        "diff_train_labels = []\n",
        "msg_train_labels = []\n",
        "\n",
        "for j in range(int(26208/1006)): \n",
        "  for i in range(0,1006):\n",
        "    diff_train_labels.append(i)\n",
        "\n",
        "for i in range(0,52):\n",
        "  diff_train_labels.append(i)\n",
        "print(len(diff_train_labels))\n",
        "\n",
        "for i in diff_train_labels:\n",
        "    msg_train_labels.append(i)\n",
        "\n"
      ],
      "execution_count": 7,
      "outputs": [
        {
          "output_type": "stream",
          "text": [
            "26208\n"
          ],
          "name": "stdout"
        }
      ]
    },
    {
      "cell_type": "markdown",
      "metadata": {
        "id": "sNleTzTrDCYi",
        "colab_type": "text"
      },
      "source": [
        "#Embeddings"
      ]
    },
    {
      "cell_type": "markdown",
      "metadata": {
        "id": "R7SjL98gISVm",
        "colab_type": "text"
      },
      "source": [
        "Add Paddings"
      ]
    },
    {
      "cell_type": "code",
      "metadata": {
        "id": "r1orr-x-DClb",
        "colab_type": "code",
        "outputId": "ad92d49b-836d-4c97-f2e1-6ea724394537",
        "colab": {
          "base_uri": "https://localhost:8080/",
          "height": 34
        }
      },
      "source": [
        "#diff_len = [len(line) for line in filtered_diff_train]\n",
        "max_diff_length = max(len(line) for line in filtered_diff_train)\n",
        "max_msg_length = max(len(line) for line in msg_train_lemmatisation)\n",
        "print(max_diff_length, max_msg_length)\n",
        "def add_paddings(corpus, seq_length):\n",
        "    padding_list = []\n",
        "    for line in corpus:\n",
        "        if len(line) > seq_length:\n",
        "            padding_list.append(line[:seq_length])\n",
        "        else:\n",
        "            for j in range(seq_length - len(line)):\n",
        "                line.append(\"<PAD>\")\n",
        "            padding_list.append(line)\n",
        "    return padding_list\n",
        "\n",
        "padding_diff_train = add_paddings(filtered_diff_train, max_diff_length)\n",
        "padding_diff_test = add_paddings(filtered_diff_test, max_diff_length)\n",
        "\n",
        "padding_msg_train = add_paddings(msg_train_lemmatisation, max_msg_length)\n",
        "padding_msg_test = add_paddings(msg_train_lemmatisation, max_msg_length)\n",
        "# for i in range(0,2):\n",
        "#   print(padding_diff_train[i])\n",
        "\n",
        "# for i in range(0,2):\n",
        "#   print(padding_msg_train[i])"
      ],
      "execution_count": 7,
      "outputs": [
        {
          "output_type": "stream",
          "text": [
            "77 20\n"
          ],
          "name": "stdout"
        }
      ]
    },
    {
      "cell_type": "markdown",
      "metadata": {
        "id": "05IqvlEqAbyS",
        "colab_type": "text"
      },
      "source": [
        "Download"
      ]
    },
    {
      "cell_type": "code",
      "metadata": {
        "id": "vh2p5FzOAcKo",
        "colab_type": "code",
        "outputId": "6cd84ab8-1c6f-4f6e-d871-d1f759bc6d95",
        "colab": {
          "base_uri": "https://localhost:8080/",
          "height": 72
        }
      },
      "source": [
        "import gensim.downloader as api\n",
        "word_emb_model = api.load(\"glove-wiki-gigaword-200\")"
      ],
      "execution_count": 8,
      "outputs": [
        {
          "output_type": "stream",
          "text": [
            "/usr/local/lib/python3.6/dist-packages/smart_open/smart_open_lib.py:253: UserWarning: This function is deprecated, use smart_open.open instead. See the migration notes for details: https://github.com/RaRe-Technologies/smart_open/blob/master/README.rst#migrating-to-the-new-open-function\n",
            "  'See the migration notes for details: %s' % _MIGRATION_NOTES_URL\n"
          ],
          "name": "stderr"
        }
      ]
    },
    {
      "cell_type": "markdown",
      "metadata": {
        "id": "pA9Qh9lhE7wy",
        "colab_type": "text"
      },
      "source": [
        "Get Embeddings"
      ]
    },
    {
      "cell_type": "code",
      "metadata": {
        "id": "5ljJ_ATnE8G0",
        "colab_type": "code",
        "outputId": "293b43c4-e945-4342-9336-4cbbafdd317d",
        "colab": {
          "base_uri": "https://localhost:8080/",
          "height": 52
        }
      },
      "source": [
        "import numpy as np\n",
        "def get_embeddings(corpus, word_emb_model):\n",
        "    emb_dim = word_emb_model.vector_size\n",
        "    out = []\n",
        "    for sentence in corpus:\n",
        "        out_temp = []\n",
        "        for word in sentence:\n",
        "            try:\n",
        "                out_temp.append(word_emb_model.wv[word])\n",
        "            except:\n",
        "                out_temp.append([0]*emb_dim)\n",
        "    \n",
        "        out.append(out_temp)\n",
        "    return np.array(out)\n",
        "\n",
        "diff_train_embedding = get_embeddings(padding_diff_train, word_emb_model)\n",
        "diff_test_embedding = get_embeddings(padding_diff_test, word_emb_model)\n",
        "msg_train_embedding = get_embeddings(padding_msg_train, word_emb_model)\n",
        "msg_test_embedding = get_embeddings(padding_msg_test, word_emb_model)\n",
        "\n",
        "# for i in range(0,2):\n",
        "#   print(diff_train_embedding[i])\n",
        "\n",
        "# for i in range(0,2):\n",
        "#   print(msg_train_embedding[i])"
      ],
      "execution_count": 9,
      "outputs": [
        {
          "output_type": "stream",
          "text": [
            "/usr/local/lib/python3.6/dist-packages/ipykernel_launcher.py:9: DeprecationWarning: Call to deprecated `wv` (Attribute will be removed in 4.0.0, use self instead).\n",
            "  if __name__ == '__main__':\n"
          ],
          "name": "stderr"
        }
      ]
    },
    {
      "cell_type": "markdown",
      "metadata": {
        "id": "YGu1A9vjHyzQ",
        "colab_type": "text"
      },
      "source": [
        "#Model"
      ]
    },
    {
      "cell_type": "markdown",
      "metadata": {
        "id": "mtaMnAG0oVPB",
        "colab_type": "text"
      },
      "source": [
        "## Model for diff"
      ]
    },
    {
      "cell_type": "markdown",
      "metadata": {
        "id": "NLOfZmXXHzgz",
        "colab_type": "text"
      },
      "source": [
        "Hyperparameter Selection"
      ]
    },
    {
      "cell_type": "code",
      "metadata": {
        "id": "WZ_uj29zHpbC",
        "colab_type": "code",
        "colab": {}
      },
      "source": [
        "# n_diff_input = diff_train_embedding.shape[2] #50\n",
        "# n_diff_hidden = 50 \n",
        "# n_class = len(labels) #1006\n",
        "# total_epoch = 5000\n",
        "# learning_rate = 0.01"
      ],
      "execution_count": 0,
      "outputs": []
    },
    {
      "cell_type": "code",
      "metadata": {
        "id": "tfUgaAXbHpsO",
        "colab_type": "code",
        "colab": {}
      },
      "source": [
        "# import torch\n",
        "# import torch.nn as nn\n",
        "# import torch.nn.functional as F\n",
        "# import torch.optim as optim\n",
        "# from sklearn.metrics import accuracy_score\n",
        "# device = torch.device(\"cuda\" if torch.cuda.is_available() else \"cpu\")\n",
        "# class DiffNet(nn.Module):\n",
        "#     def __init__(self):\n",
        "#         super(DiffNet, self).__init__()\n",
        "#         self.lstm = nn.LSTM(n_diff_input, n_diff_hidden, num_layers=2, batch_first =True, dropout=0.2)\n",
        "#         self.linear = nn.Linear(n_diff_hidden, n_class)\n",
        "\n",
        "#     def forward(self, x):\n",
        "#         x,_ = self.lstm(x)\n",
        "#         x = self.linear(x[:,-1,:])\n",
        "#         x = F.log_softmax(x, dim=1)\n",
        "#         return x\n",
        "\n",
        "\n",
        "# diffnet = DiffNet().to(device)\n",
        "# criterion = nn.NLLLoss()\n",
        "# optimizer = optim.Adam(diffnet.parameters(), lr=learning_rate)\n",
        "\n",
        "# input_diff_batch_torch = torch.from_numpy(np.array(diff_train_embedding)).float().to(device)\n",
        "# target_diff_batch_torch = torch.from_numpy(np.array(diff_train_labels)).view(-1).to(device)\n",
        "\n",
        "\n",
        "# for epoch in range(total_epoch):   \n",
        "#     diffnet.train()\n",
        "#     outputs = diffnet(input_diff_batch_torch) \n",
        "#     loss = criterion(outputs, target_diff_batch_torch)\n",
        "#     loss.backward()\n",
        "#     optimizer.step()\n",
        "#     optimizer.zero_grad()\n",
        "\n",
        "#     diffnet.eval()\n",
        "#     outputs = diffnet(input_diff_batch_torch) \n",
        "    \n",
        "#     if epoch%100 == 99:\n",
        "#         loss = criterion(outputs, target_diff_batch_torch)\n",
        "\n",
        "#         print('Epoch: %d, loss: %.5f' %(epoch + 1, loss.item()))\n",
        "\n",
        "# print('Finished Training diffs')\n"
      ],
      "execution_count": 0,
      "outputs": []
    },
    {
      "cell_type": "markdown",
      "metadata": {
        "id": "PK7C3ln-og3_",
        "colab_type": "text"
      },
      "source": [
        "## Model for messages"
      ]
    },
    {
      "cell_type": "markdown",
      "metadata": {
        "id": "bDCZ9UvEohBk",
        "colab_type": "text"
      },
      "source": [
        "Hyperparameter Selection"
      ]
    },
    {
      "cell_type": "code",
      "metadata": {
        "id": "68XdO3-xohMP",
        "colab_type": "code",
        "colab": {}
      },
      "source": [
        "# n_msg_input = msg_train_embedding.shape[2]\n",
        "# print(n_msg_input)\n",
        "# n_msg_hidden = 50\n",
        "# n_class = len(labels) #1006\n",
        "# total_epoch = 5000\n",
        "# learning_rate = 0.01"
      ],
      "execution_count": 0,
      "outputs": []
    },
    {
      "cell_type": "code",
      "metadata": {
        "id": "WwKn0F-wonNR",
        "colab_type": "code",
        "colab": {}
      },
      "source": [
        "# class MsgNet(nn.Module):\n",
        "#     def __init__(self):\n",
        "#         super(MsgNet, self).__init__()\n",
        "#         self.lstm = nn.LSTM(n_msg_input, n_msg_hidden, num_layers=2, batch_first =True, dropout=0.2)\n",
        "#         self.linear = nn.Linear(n_msg_hidden, n_class)\n",
        "\n",
        "#     def forward(self, x):\n",
        "#         x,_ = self.lstm(x)\n",
        "#         x = self.linear(x[:,-1,:])\n",
        "#         x = F.log_softmax(x, dim=1)\n",
        "#         return x\n",
        "\n",
        "\n",
        "# msgnet = MsgNet().to(device)\n",
        "# criterion = nn.NLLLoss()\n",
        "# optimizer = optim.Adam(msgnet.parameters(), lr=learning_rate)\n",
        "\n",
        "# input_msg_batch_torch = torch.from_numpy(np.array(msg_train_embedding)).float().to(device)\n",
        "# target_msg_batch_torch = torch.from_numpy(np.array(msg_train_labels)).view(-1).to(device)\n",
        "\n",
        "\n",
        "# for epoch in range(total_epoch):   \n",
        "#     msgnet.train()\n",
        "#     outputs = msgnet(input_msg_batch_torch) \n",
        "#     loss = criterion(outputs, target_msg_batch_torch)\n",
        "#     loss.backward()\n",
        "#     optimizer.step()\n",
        "#     optimizer.zero_grad()\n",
        "\n",
        "#     msgnet.eval()\n",
        "#     outputs = msgnet(input_msg_batch_torch) \n",
        "    \n",
        "#     if epoch%100 == 99:\n",
        "#         loss = criterion(outputs, target_msg_batch_torch)\n",
        "\n",
        "#         print('Epoch: %d, loss: %.5f' %(epoch + 1, loss.item()))\n",
        "\n",
        "# print('Finished Training messages')\n"
      ],
      "execution_count": 0,
      "outputs": []
    },
    {
      "cell_type": "markdown",
      "metadata": {
        "id": "J13dsNj4M-yi",
        "colab_type": "text"
      },
      "source": [
        "# Merged model"
      ]
    },
    {
      "cell_type": "code",
      "metadata": {
        "id": "wjISONU_lpo1",
        "colab_type": "code",
        "colab": {}
      },
      "source": [
        "n_diff_input = diff_train_embedding.shape[2] #50\n",
        "n_diff_hidden = 128\n",
        "n_msg_input = msg_train_embedding.shape[2]  #50\n",
        "n_msg_hidden = 128\n",
        "total_epoch = 500\n",
        "learning_rate = 0.00001\n",
        "batch_size = 1024"
      ],
      "execution_count": 0,
      "outputs": []
    },
    {
      "cell_type": "code",
      "metadata": {
        "id": "_W4kCTLAK64O",
        "colab_type": "code",
        "colab": {}
      },
      "source": [
        "import torch\n",
        "import torch.nn as nn\n",
        "import torch.nn.functional as F\n",
        "import torch.optim as optim\n",
        "from sklearn.metrics import accuracy_score\n",
        "\n",
        "class TripletLoss(nn.Module):\n",
        "    \"\"\"\n",
        "    Triplet loss\n",
        "    Takes embeddings of an anchor sample, a positive sample and a negative sample\n",
        "    \"\"\"\n",
        "\n",
        "    def __init__(self, margin = 1.0):\n",
        "        super(TripletLoss, self).__init__()\n",
        "        self.margin = margin\n",
        "\n",
        "    # def forward(self, anchor, positive, negative, size_average=True):\n",
        "        # distance_positive = (anchor - positive).pow(2).sum(1)  # .pow(.5)\n",
        "        # distance_negative = (anchor - negative).pow(2).sum(1)  # .pow(.5)\n",
        "    def forward(self, distance_positive, distance_negative, size_average=True):\n",
        "\n",
        "        losses = distance_positive - distance_negative + self.margin\n",
        "        losses = F.relu(losses)\n",
        "        # losses = max(0, distance_positive - distance_negative + self.margin)\n",
        "       \n",
        "        losses = losses.mean()\n",
        "        # if size_average\n",
        "        return losses #if size_average else losses.sum()\n"
      ],
      "execution_count": 0,
      "outputs": []
    },
    {
      "cell_type": "code",
      "metadata": {
        "id": "nKlFlIBOlrAz",
        "colab_type": "code",
        "colab": {}
      },
      "source": [
        "class Net(nn.Module):\n",
        "    def __init__(self):\n",
        "        super(Net, self).__init__()\n",
        "        self.diff_lstm = nn.GRU(n_diff_input, n_diff_hidden, num_layers=2, batch_first =True)\n",
        "        self.msg_lstm = nn.GRU(n_msg_input, n_msg_hidden, num_layers=2, batch_first =True)\n",
        "        self.linear1 = nn.Linear(n_msg_hidden+n_diff_hidden, 64)\n",
        "        self.linear2 = nn.Linear(64, 1)\n",
        "        self.bn1 = nn.BatchNorm1d(64)\n",
        "        self.act1 = nn.ReLU()\n",
        "        self.act2 = nn.Sigmoid()\n",
        "\n",
        "    def forward(self, diff, message):\n",
        "        diff, _ = self.diff_lstm(diff)\n",
        "        message, _ = self.msg_lstm(message)\n",
        "        x = torch.cat([diff[:,-1,:], message[:,-1,:]], dim=1)\n",
        "        x = self.linear1(x)\n",
        "        x = self.bn1(x)\n",
        "        x = self.act1(x)\n",
        "        x = self.linear2(x)\n",
        "        x = self.act2(x)\n",
        "        # x = self.act(x)\n",
        "        return x\n",
        "\n",
        "\n",
        "device = torch.device(\"cuda\" if torch.cuda.is_available() else \"cpu\")\n",
        "net = Net().to(device)\n",
        "# criterion = nn.TripletMarginLoss(margin=1.0, p=2)\n",
        "criterion = TripletLoss().to(device)\n",
        "optimizer = optim.Adam(net.parameters(), lr=learning_rate)\n",
        "# print(input_diff_batch_torch.shape, input_msg_batch_torch.shape)\n",
        "\n",
        "# target_msg_batch_torch = torch.from_numpy(np.array(msg_train_labels)).view(-1).to(device)\n",
        "input_diff_batch_torch = torch.from_numpy(np.array(diff_train_embedding[0:batch_size])).float().to(device)\n",
        "input_msg_batch_torch = torch.from_numpy(np.array(msg_train_embedding[0:batch_size])).float().to(device)\n",
        "# print(input_diff_batch_torch.shape[0])\n",
        "    \n",
        "  \n",
        "\n"
      ],
      "execution_count": 0,
      "outputs": []
    },
    {
      "cell_type": "markdown",
      "metadata": {
        "id": "FtcdCjRUdy2M",
        "colab_type": "text"
      },
      "source": [
        "**Model 1**\n",
        "\n",
        "Hyperparameters selection:  </br>\n",
        "\n",
        "```\n",
        "n_diff_hidden = 128\n",
        "n_msg_hidden = 128\n",
        "total_epoch = 200\n",
        "learning_rate = 0.00001\n",
        "```"
      ]
    },
    {
      "cell_type": "code",
      "metadata": {
        "id": "McS11j2fcCnb",
        "colab_type": "code",
        "colab": {
          "base_uri": "https://localhost:8080/",
          "height": 1000
        },
        "outputId": "3c0f1814-ffc0-4b9a-c121-8921427e4dd9"
      },
      "source": [
        "import numpy as np\n",
        "del optimizer\n",
        "optimizer = optim.Adam(net.parameters(), lr=learning_rate)\n",
        "\n",
        "nbatch = int(26208/batch_size)-1  # 24\n",
        "epoch_list = []\n",
        "loss_train_list = []\n",
        "loss_test_list = []\n",
        "\n",
        "for epoch in range(total_epoch): \n",
        "    epoch_list.append(epoch)\n",
        "    sum_train_loss = 0  \n",
        "    sum_test_loss = 0\n",
        "    for i in range(nbatch):\n",
        "    # for i in range(1):\n",
        "      input_diff_batch_torch = torch.from_numpy(np.array(diff_train_embedding[int(i*batch_size):int((i+1)*batch_size)])).float().to(device)\n",
        "      input_msg_batch_torch = torch.from_numpy(np.array(msg_train_embedding[int(i*batch_size):int((i+1)*batch_size)])).float().to(device)\n",
        "      perm = torch.randperm(input_msg_batch_torch.size(0))\n",
        "      permed_msg = input_msg_batch_torch[perm]\n",
        "      net.train()\n",
        "      outputs_positive = net(input_diff_batch_torch, input_msg_batch_torch) \n",
        "      outputs_negative = net(input_diff_batch_torch, permed_msg)\n",
        "      # print(outputs_positive.mean(), outputs_negative.mean())\n",
        "      # print(outputs_positive.mean().item(), outputs_negative.mean().item())\n",
        "      # print(outputs_positive.mean() - outputs_negative.mean() + 1)\n",
        "      loss = criterion(outputs_positive, outputs_negative)\n",
        "      # print(loss)\n",
        "      # print(outputs_positive.mean(), outputs_negative.mean())\n",
        "      loss.backward()\n",
        "      optimizer.step()\n",
        "      optimizer.zero_grad()\n",
        "      sum_train_loss += loss.item()\n",
        "\n",
        "      net.eval()\n",
        "      outputs_positive = net(input_diff_batch_torch, input_msg_batch_torch) \n",
        "      outputs_negative = net(input_diff_batch_torch, permed_msg)\n",
        "      loss = criterion(outputs_positive, outputs_negative)\n",
        "      \n",
        "      sum_test_loss += loss.item()\n",
        "\n",
        "    loss_train_list.append(sum_train_loss/nbatch)\n",
        "    loss_test_list.append(sum_test_loss/nbatch)\n",
        "    \n",
        "    print('Epoch: %d, training loss: %.6f, testing loss: %.6f' %(epoch + 1, sum_train_loss/nbatch, sum_test_loss/nbatch))\n",
        "    # print('Epoch: %d, loss: %.5f' %(epoch + 1, sum_loss/int(26208/batch_size)))\n",
        "        \n",
        "print('Finished')\n"
      ],
      "execution_count": 13,
      "outputs": [
        {
          "output_type": "stream",
          "text": [
            "Epoch: 1, training loss: 1.000000, testing loss: 1.000000\n",
            "Epoch: 2, training loss: 1.000000, testing loss: 1.000000\n",
            "Epoch: 3, training loss: 1.000000, testing loss: 1.000000\n",
            "Epoch: 4, training loss: 1.000000, testing loss: 1.000000\n",
            "Epoch: 5, training loss: 1.000000, testing loss: 1.000000\n",
            "Epoch: 6, training loss: 1.000000, testing loss: 1.000000\n",
            "Epoch: 7, training loss: 1.000000, testing loss: 1.000000\n",
            "Epoch: 8, training loss: 0.999999, testing loss: 1.000000\n",
            "Epoch: 9, training loss: 1.000000, testing loss: 1.000000\n",
            "Epoch: 10, training loss: 0.999999, testing loss: 0.999999\n",
            "Epoch: 11, training loss: 0.999998, testing loss: 0.999999\n",
            "Epoch: 12, training loss: 0.999999, testing loss: 0.999999\n",
            "Epoch: 13, training loss: 1.000000, testing loss: 1.000000\n",
            "Epoch: 14, training loss: 0.999999, testing loss: 1.000000\n",
            "Epoch: 15, training loss: 0.999999, testing loss: 0.999999\n",
            "Epoch: 16, training loss: 0.999999, testing loss: 0.999999\n",
            "Epoch: 17, training loss: 0.999999, testing loss: 1.000000\n",
            "Epoch: 18, training loss: 0.999999, testing loss: 0.999999\n",
            "Epoch: 19, training loss: 0.999998, testing loss: 0.999999\n",
            "Epoch: 20, training loss: 0.999999, testing loss: 0.999999\n",
            "Epoch: 21, training loss: 0.999999, testing loss: 0.999999\n",
            "Epoch: 22, training loss: 0.999999, testing loss: 0.999999\n",
            "Epoch: 23, training loss: 0.999999, testing loss: 0.999999\n",
            "Epoch: 24, training loss: 0.999998, testing loss: 0.999999\n",
            "Epoch: 25, training loss: 0.999998, testing loss: 0.999998\n",
            "Epoch: 26, training loss: 0.999998, testing loss: 0.999998\n",
            "Epoch: 27, training loss: 0.999998, testing loss: 0.999998\n",
            "Epoch: 28, training loss: 0.999997, testing loss: 0.999997\n",
            "Epoch: 29, training loss: 0.999997, testing loss: 0.999997\n",
            "Epoch: 30, training loss: 0.999997, testing loss: 0.999998\n",
            "Epoch: 31, training loss: 0.999997, testing loss: 0.999998\n",
            "Epoch: 32, training loss: 0.999995, testing loss: 0.999995\n",
            "Epoch: 33, training loss: 0.999995, testing loss: 0.999995\n",
            "Epoch: 34, training loss: 0.999997, testing loss: 0.999997\n",
            "Epoch: 35, training loss: 0.999994, testing loss: 0.999994\n",
            "Epoch: 36, training loss: 0.999995, testing loss: 0.999996\n",
            "Epoch: 37, training loss: 0.999994, testing loss: 0.999994\n",
            "Epoch: 38, training loss: 0.999992, testing loss: 0.999994\n",
            "Epoch: 39, training loss: 0.999991, testing loss: 0.999991\n",
            "Epoch: 40, training loss: 0.999990, testing loss: 0.999990\n",
            "Epoch: 41, training loss: 0.999985, testing loss: 0.999983\n",
            "Epoch: 42, training loss: 0.999983, testing loss: 0.999985\n",
            "Epoch: 43, training loss: 0.999974, testing loss: 0.999969\n",
            "Epoch: 44, training loss: 0.999984, testing loss: 0.999984\n",
            "Epoch: 45, training loss: 0.999965, testing loss: 0.999960\n",
            "Epoch: 46, training loss: 0.999967, testing loss: 0.999965\n",
            "Epoch: 47, training loss: 0.999957, testing loss: 0.999953\n",
            "Epoch: 48, training loss: 0.999933, testing loss: 0.999925\n",
            "Epoch: 49, training loss: 0.999898, testing loss: 0.999882\n",
            "Epoch: 50, training loss: 0.999778, testing loss: 0.999823\n",
            "Epoch: 51, training loss: 0.996592, testing loss: 0.999932\n",
            "Epoch: 52, training loss: 0.977893, testing loss: 0.986567\n",
            "Epoch: 53, training loss: 0.962703, testing loss: 0.986639\n",
            "Epoch: 54, training loss: 0.953611, testing loss: 0.938987\n",
            "Epoch: 55, training loss: 0.946946, testing loss: 0.923541\n",
            "Epoch: 56, training loss: 0.942343, testing loss: 0.921273\n",
            "Epoch: 57, training loss: 0.939477, testing loss: 0.918623\n",
            "Epoch: 58, training loss: 0.936691, testing loss: 0.914311\n",
            "Epoch: 59, training loss: 0.934785, testing loss: 0.911557\n",
            "Epoch: 60, training loss: 0.932931, testing loss: 0.908870\n",
            "Epoch: 61, training loss: 0.930483, testing loss: 0.905716\n",
            "Epoch: 62, training loss: 0.929382, testing loss: 0.904369\n",
            "Epoch: 63, training loss: 0.927843, testing loss: 0.902649\n",
            "Epoch: 64, training loss: 0.925501, testing loss: 0.899095\n",
            "Epoch: 65, training loss: 0.925202, testing loss: 0.899126\n",
            "Epoch: 66, training loss: 0.924417, testing loss: 0.898681\n",
            "Epoch: 67, training loss: 0.922174, testing loss: 0.895266\n",
            "Epoch: 68, training loss: 0.920875, testing loss: 0.894065\n",
            "Epoch: 69, training loss: 0.919912, testing loss: 0.893157\n",
            "Epoch: 70, training loss: 0.919409, testing loss: 0.892518\n",
            "Epoch: 71, training loss: 0.917209, testing loss: 0.890330\n",
            "Epoch: 72, training loss: 0.917375, testing loss: 0.890576\n",
            "Epoch: 73, training loss: 0.915328, testing loss: 0.888188\n",
            "Epoch: 74, training loss: 0.914008, testing loss: 0.886683\n",
            "Epoch: 75, training loss: 0.912205, testing loss: 0.884411\n",
            "Epoch: 76, training loss: 0.912240, testing loss: 0.884913\n",
            "Epoch: 77, training loss: 0.910988, testing loss: 0.883639\n",
            "Epoch: 78, training loss: 0.909694, testing loss: 0.881891\n",
            "Epoch: 79, training loss: 0.909134, testing loss: 0.881638\n",
            "Epoch: 80, training loss: 0.908200, testing loss: 0.880617\n",
            "Epoch: 81, training loss: 0.907366, testing loss: 0.879758\n",
            "Epoch: 82, training loss: 0.905594, testing loss: 0.877876\n",
            "Epoch: 83, training loss: 0.905316, testing loss: 0.877908\n",
            "Epoch: 84, training loss: 0.904549, testing loss: 0.876992\n",
            "Epoch: 85, training loss: 0.904672, testing loss: 0.878007\n",
            "Epoch: 86, training loss: 0.901483, testing loss: 0.874063\n",
            "Epoch: 87, training loss: 0.901879, testing loss: 0.874739\n",
            "Epoch: 88, training loss: 0.899964, testing loss: 0.872536\n",
            "Epoch: 89, training loss: 0.899655, testing loss: 0.872354\n",
            "Epoch: 90, training loss: 0.899219, testing loss: 0.872264\n",
            "Epoch: 91, training loss: 0.898207, testing loss: 0.871107\n",
            "Epoch: 92, training loss: 0.898419, testing loss: 0.871753\n",
            "Epoch: 93, training loss: 0.896788, testing loss: 0.870136\n",
            "Epoch: 94, training loss: 0.896239, testing loss: 0.869659\n",
            "Epoch: 95, training loss: 0.896141, testing loss: 0.869682\n",
            "Epoch: 96, training loss: 0.894282, testing loss: 0.867509\n",
            "Epoch: 97, training loss: 0.893716, testing loss: 0.866810\n",
            "Epoch: 98, training loss: 0.893057, testing loss: 0.866855\n",
            "Epoch: 99, training loss: 0.892196, testing loss: 0.865680\n",
            "Epoch: 100, training loss: 0.891608, testing loss: 0.865321\n",
            "Epoch: 101, training loss: 0.891172, testing loss: 0.865046\n",
            "Epoch: 102, training loss: 0.889698, testing loss: 0.863510\n",
            "Epoch: 103, training loss: 0.890935, testing loss: 0.865192\n",
            "Epoch: 104, training loss: 0.889052, testing loss: 0.862877\n",
            "Epoch: 105, training loss: 0.888913, testing loss: 0.863190\n",
            "Epoch: 106, training loss: 0.888275, testing loss: 0.862404\n",
            "Epoch: 107, training loss: 0.887476, testing loss: 0.861620\n",
            "Epoch: 108, training loss: 0.887250, testing loss: 0.861360\n",
            "Epoch: 109, training loss: 0.887295, testing loss: 0.861833\n",
            "Epoch: 110, training loss: 0.886548, testing loss: 0.861102\n",
            "Epoch: 111, training loss: 0.885609, testing loss: 0.860147\n",
            "Epoch: 112, training loss: 0.883257, testing loss: 0.857752\n",
            "Epoch: 113, training loss: 0.884339, testing loss: 0.858952\n",
            "Epoch: 114, training loss: 0.883815, testing loss: 0.858327\n",
            "Epoch: 115, training loss: 0.882960, testing loss: 0.857766\n",
            "Epoch: 116, training loss: 0.882760, testing loss: 0.857592\n",
            "Epoch: 117, training loss: 0.883028, testing loss: 0.857845\n",
            "Epoch: 118, training loss: 0.882472, testing loss: 0.857677\n",
            "Epoch: 119, training loss: 0.880471, testing loss: 0.855163\n",
            "Epoch: 120, training loss: 0.880874, testing loss: 0.856206\n",
            "Epoch: 121, training loss: 0.880150, testing loss: 0.855268\n",
            "Epoch: 122, training loss: 0.879909, testing loss: 0.855208\n",
            "Epoch: 123, training loss: 0.879187, testing loss: 0.854272\n",
            "Epoch: 124, training loss: 0.878993, testing loss: 0.854780\n",
            "Epoch: 125, training loss: 0.878472, testing loss: 0.853677\n",
            "Epoch: 126, training loss: 0.877851, testing loss: 0.853010\n",
            "Epoch: 127, training loss: 0.877356, testing loss: 0.852983\n",
            "Epoch: 128, training loss: 0.876864, testing loss: 0.852451\n",
            "Epoch: 129, training loss: 0.876731, testing loss: 0.852210\n",
            "Epoch: 130, training loss: 0.876528, testing loss: 0.852020\n",
            "Epoch: 131, training loss: 0.875985, testing loss: 0.851787\n",
            "Epoch: 132, training loss: 0.875007, testing loss: 0.850651\n",
            "Epoch: 133, training loss: 0.875335, testing loss: 0.851030\n",
            "Epoch: 134, training loss: 0.875440, testing loss: 0.851791\n",
            "Epoch: 135, training loss: 0.875296, testing loss: 0.851143\n",
            "Epoch: 136, training loss: 0.872665, testing loss: 0.848448\n",
            "Epoch: 137, training loss: 0.873131, testing loss: 0.849136\n",
            "Epoch: 138, training loss: 0.872621, testing loss: 0.848632\n",
            "Epoch: 139, training loss: 0.871944, testing loss: 0.848256\n",
            "Epoch: 140, training loss: 0.872485, testing loss: 0.848680\n",
            "Epoch: 141, training loss: 0.872051, testing loss: 0.848107\n",
            "Epoch: 142, training loss: 0.871099, testing loss: 0.847807\n",
            "Epoch: 143, training loss: 0.869915, testing loss: 0.845501\n",
            "Epoch: 144, training loss: 0.870554, testing loss: 0.847010\n",
            "Epoch: 145, training loss: 0.869656, testing loss: 0.845899\n",
            "Epoch: 146, training loss: 0.870071, testing loss: 0.846544\n",
            "Epoch: 147, training loss: 0.869685, testing loss: 0.846149\n",
            "Epoch: 148, training loss: 0.869953, testing loss: 0.846931\n",
            "Epoch: 149, training loss: 0.869547, testing loss: 0.846973\n",
            "Epoch: 150, training loss: 0.868779, testing loss: 0.845749\n",
            "Epoch: 151, training loss: 0.868122, testing loss: 0.845199\n",
            "Epoch: 152, training loss: 0.867494, testing loss: 0.844229\n",
            "Epoch: 153, training loss: 0.867040, testing loss: 0.844013\n",
            "Epoch: 154, training loss: 0.866541, testing loss: 0.843487\n",
            "Epoch: 155, training loss: 0.866574, testing loss: 0.843892\n",
            "Epoch: 156, training loss: 0.867690, testing loss: 0.845014\n",
            "Epoch: 157, training loss: 0.865908, testing loss: 0.843216\n",
            "Epoch: 158, training loss: 0.865378, testing loss: 0.842760\n",
            "Epoch: 159, training loss: 0.864857, testing loss: 0.842375\n",
            "Epoch: 160, training loss: 0.865003, testing loss: 0.842472\n",
            "Epoch: 161, training loss: 0.864885, testing loss: 0.842428\n",
            "Epoch: 162, training loss: 0.864969, testing loss: 0.843012\n",
            "Epoch: 163, training loss: 0.863150, testing loss: 0.840354\n",
            "Epoch: 164, training loss: 0.864004, testing loss: 0.841968\n",
            "Epoch: 165, training loss: 0.863914, testing loss: 0.841963\n",
            "Epoch: 166, training loss: 0.862275, testing loss: 0.839940\n",
            "Epoch: 167, training loss: 0.863445, testing loss: 0.842055\n",
            "Epoch: 168, training loss: 0.863974, testing loss: 0.842102\n",
            "Epoch: 169, training loss: 0.863915, testing loss: 0.842002\n",
            "Epoch: 170, training loss: 0.861877, testing loss: 0.839755\n",
            "Epoch: 171, training loss: 0.860078, testing loss: 0.838470\n",
            "Epoch: 172, training loss: 0.860799, testing loss: 0.838812\n",
            "Epoch: 173, training loss: 0.861693, testing loss: 0.840228\n",
            "Epoch: 174, training loss: 0.860234, testing loss: 0.838419\n",
            "Epoch: 175, training loss: 0.860452, testing loss: 0.839143\n",
            "Epoch: 176, training loss: 0.860156, testing loss: 0.838779\n",
            "Epoch: 177, training loss: 0.859678, testing loss: 0.838030\n",
            "Epoch: 178, training loss: 0.861237, testing loss: 0.840128\n",
            "Epoch: 179, training loss: 0.858676, testing loss: 0.836787\n",
            "Epoch: 180, training loss: 0.859961, testing loss: 0.838627\n",
            "Epoch: 181, training loss: 0.858610, testing loss: 0.837671\n",
            "Epoch: 182, training loss: 0.858604, testing loss: 0.837659\n",
            "Epoch: 183, training loss: 0.858138, testing loss: 0.837156\n",
            "Epoch: 184, training loss: 0.858957, testing loss: 0.838008\n",
            "Epoch: 185, training loss: 0.857557, testing loss: 0.836291\n",
            "Epoch: 186, training loss: 0.856924, testing loss: 0.835894\n",
            "Epoch: 187, training loss: 0.855957, testing loss: 0.834984\n",
            "Epoch: 188, training loss: 0.856331, testing loss: 0.835898\n",
            "Epoch: 189, training loss: 0.856540, testing loss: 0.835647\n",
            "Epoch: 190, training loss: 0.857539, testing loss: 0.836599\n",
            "Epoch: 191, training loss: 0.856913, testing loss: 0.835892\n",
            "Epoch: 192, training loss: 0.857195, testing loss: 0.837052\n",
            "Epoch: 193, training loss: 0.855869, testing loss: 0.835537\n",
            "Epoch: 194, training loss: 0.857222, testing loss: 0.837241\n",
            "Epoch: 195, training loss: 0.855956, testing loss: 0.835670\n",
            "Epoch: 196, training loss: 0.856238, testing loss: 0.836364\n",
            "Epoch: 197, training loss: 0.855522, testing loss: 0.835602\n",
            "Epoch: 198, training loss: 0.856059, testing loss: 0.836002\n",
            "Epoch: 199, training loss: 0.854495, testing loss: 0.834468\n",
            "Epoch: 200, training loss: 0.855097, testing loss: 0.835598\n",
            "Finished\n"
          ],
          "name": "stdout"
        }
      ]
    },
    {
      "cell_type": "code",
      "metadata": {
        "id": "Pcr9eKVHZPe1",
        "colab_type": "code",
        "colab": {
          "base_uri": "https://localhost:8080/",
          "height": 281
        },
        "outputId": "15f2ec69-9975-481b-c29e-44ac1f8a241a"
      },
      "source": [
        "plt.plot(epoch_list, loss_train_list, 'g', label = 'training loss')\n",
        "plt.plot(epoch_list, loss_test_list, 'b', label = 'testing loss')\n",
        "plt.title('Training Loss & Testing Loss')\n",
        "plt.legend()\n",
        "plt.show()\n"
      ],
      "execution_count": 15,
      "outputs": [
        {
          "output_type": "display_data",
          "data": {
            "image/png": "[encoded data removed]",
            "text/plain": [
              "<Figure size 432x288 with 1 Axes>"
            ]
          },
          "metadata": {
            "tags": [],
            "needs_background": "light"
          }
        }
      ]
    },
    {
      "cell_type": "markdown",
      "metadata": {
        "id": "03Um8HkVMumz",
        "colab_type": "text"
      },
      "source": [
        "**Model 2**\n",
        "\n",
        "Hyperparameters selection:  </br>\n",
        "\n",
        "```\n",
        "n_diff_hidden = 128\n",
        "n_msg_hidden = 128\n",
        "total_epoch = 300\n",
        "learning_rate = 0.00001\n",
        "```"
      ]
    },
    {
      "cell_type": "code",
      "metadata": {
        "id": "mrTx1evQsbhr",
        "colab_type": "code",
        "colab": {
          "base_uri": "https://localhost:8080/",
          "height": 1000
        },
        "outputId": "90c3ee08-ea87-4478-dc17-50827fdce72c"
      },
      "source": [
        "import numpy as np\n",
        "del optimizer\n",
        "optimizer = optim.Adam(net.parameters(), lr=learning_rate)\n",
        "\n",
        "nbatch = int(26208/batch_size)-1  # 24\n",
        "epoch_list = []\n",
        "loss_train_list = []\n",
        "loss_test_list = []\n",
        "\n",
        "for epoch in range(total_epoch): \n",
        "    epoch_list.append(epoch)\n",
        "    sum_train_loss = 0  \n",
        "    sum_test_loss = 0\n",
        "    for i in range(nbatch):\n",
        "    # for i in range(1):\n",
        "      input_diff_batch_torch = torch.from_numpy(np.array(diff_train_embedding[int(i*batch_size):int((i+1)*batch_size)])).float().to(device)\n",
        "      input_msg_batch_torch = torch.from_numpy(np.array(msg_train_embedding[int(i*batch_size):int((i+1)*batch_size)])).float().to(device)\n",
        "      perm = torch.randperm(input_msg_batch_torch.size(0))\n",
        "      permed_msg = input_msg_batch_torch[perm]\n",
        "      net.train()\n",
        "      outputs_positive = net(input_diff_batch_torch, input_msg_batch_torch) \n",
        "      outputs_negative = net(input_diff_batch_torch, permed_msg)\n",
        "      # print(outputs_positive.mean(), outputs_negative.mean())\n",
        "      # print(outputs_positive.mean().item(), outputs_negative.mean().item())\n",
        "      # print(outputs_positive.mean() - outputs_negative.mean() + 1)\n",
        "      loss = criterion(outputs_positive, outputs_negative)\n",
        "      # print(loss)\n",
        "      # print(outputs_positive.mean(), outputs_negative.mean())\n",
        "      loss.backward()\n",
        "      optimizer.step()\n",
        "      optimizer.zero_grad()\n",
        "      sum_train_loss += loss.item()\n",
        "\n",
        "      net.eval()\n",
        "      outputs_positive = net(input_diff_batch_torch, input_msg_batch_torch) \n",
        "      outputs_negative = net(input_diff_batch_torch, permed_msg)\n",
        "      loss = criterion(outputs_positive, outputs_negative)\n",
        "      \n",
        "      sum_test_loss += loss.item()\n",
        "\n",
        "    loss_train_list.append(sum_train_loss/nbatch)\n",
        "    loss_test_list.append(sum_test_loss/nbatch)\n",
        "    \n",
        "    print('Epoch: %d, training loss: %.6f, testing loss: %.6f' %(epoch + 1, sum_train_loss/nbatch, sum_test_loss/nbatch))\n",
        "    # print('Epoch: %d, loss: %.5f' %(epoch + 1, sum_loss/int(26208/batch_size)))\n",
        "        \n",
        "print('Finished')\n"
      ],
      "execution_count": 13,
      "outputs": [
        {
          "output_type": "stream",
          "text": [
            "Epoch: 1, training loss: 1.000000, testing loss: 1.000000\n",
            "Epoch: 2, training loss: 1.000001, testing loss: 1.000000\n",
            "Epoch: 3, training loss: 1.000000, testing loss: 1.000000\n",
            "Epoch: 4, training loss: 1.000000, testing loss: 1.000000\n",
            "Epoch: 5, training loss: 1.000000, testing loss: 1.000000\n",
            "Epoch: 6, training loss: 1.000000, testing loss: 1.000000\n",
            "Epoch: 7, training loss: 0.999999, testing loss: 0.999999\n",
            "Epoch: 8, training loss: 0.999999, testing loss: 0.999999\n",
            "Epoch: 9, training loss: 1.000000, testing loss: 1.000000\n",
            "Epoch: 10, training loss: 0.999999, testing loss: 1.000000\n",
            "Epoch: 11, training loss: 0.999999, testing loss: 1.000000\n",
            "Epoch: 12, training loss: 0.999999, testing loss: 0.999999\n",
            "Epoch: 13, training loss: 0.999999, testing loss: 0.999999\n",
            "Epoch: 14, training loss: 0.999999, testing loss: 0.999999\n",
            "Epoch: 15, training loss: 0.999999, testing loss: 0.999999\n",
            "Epoch: 16, training loss: 0.999999, testing loss: 0.999999\n",
            "Epoch: 17, training loss: 0.999999, testing loss: 0.999999\n",
            "Epoch: 18, training loss: 0.999999, testing loss: 0.999999\n",
            "Epoch: 19, training loss: 0.999999, testing loss: 0.999999\n",
            "Epoch: 20, training loss: 0.999998, testing loss: 0.999998\n",
            "Epoch: 21, training loss: 0.999998, testing loss: 0.999999\n",
            "Epoch: 22, training loss: 0.999998, testing loss: 0.999999\n",
            "Epoch: 23, training loss: 0.999999, testing loss: 0.999999\n",
            "Epoch: 24, training loss: 0.999998, testing loss: 0.999998\n",
            "Epoch: 25, training loss: 0.999998, testing loss: 0.999998\n",
            "Epoch: 26, training loss: 0.999998, testing loss: 0.999998\n",
            "Epoch: 27, training loss: 0.999998, testing loss: 0.999999\n",
            "Epoch: 28, training loss: 0.999998, testing loss: 0.999997\n",
            "Epoch: 29, training loss: 0.999996, testing loss: 0.999996\n",
            "Epoch: 30, training loss: 0.999997, testing loss: 0.999998\n",
            "Epoch: 31, training loss: 0.999996, testing loss: 0.999996\n",
            "Epoch: 32, training loss: 0.999997, testing loss: 0.999997\n",
            "Epoch: 33, training loss: 0.999994, testing loss: 0.999995\n",
            "Epoch: 34, training loss: 0.999996, testing loss: 0.999996\n",
            "Epoch: 35, training loss: 0.999993, testing loss: 0.999993\n",
            "Epoch: 36, training loss: 0.999993, testing loss: 0.999993\n",
            "Epoch: 37, training loss: 0.999996, testing loss: 0.999997\n",
            "Epoch: 38, training loss: 0.999992, testing loss: 0.999993\n",
            "Epoch: 39, training loss: 0.999995, testing loss: 0.999995\n",
            "Epoch: 40, training loss: 0.999992, testing loss: 0.999992\n",
            "Epoch: 41, training loss: 0.999992, testing loss: 0.999993\n",
            "Epoch: 42, training loss: 0.999988, testing loss: 0.999989\n",
            "Epoch: 43, training loss: 0.999994, testing loss: 0.999994\n",
            "Epoch: 44, training loss: 0.999987, testing loss: 0.999987\n",
            "Epoch: 45, training loss: 0.999986, testing loss: 0.999986\n",
            "Epoch: 46, training loss: 0.999978, testing loss: 0.999975\n",
            "Epoch: 47, training loss: 0.999979, testing loss: 0.999978\n",
            "Epoch: 48, training loss: 0.999978, testing loss: 0.999979\n",
            "Epoch: 49, training loss: 0.999971, testing loss: 0.999968\n",
            "Epoch: 50, training loss: 0.999963, testing loss: 0.999963\n",
            "Epoch: 51, training loss: 0.999943, testing loss: 0.999933\n",
            "Epoch: 52, training loss: 0.999926, testing loss: 0.999909\n",
            "Epoch: 53, training loss: 0.999896, testing loss: 0.999880\n",
            "Epoch: 54, training loss: 0.999765, testing loss: 0.999771\n",
            "Epoch: 55, training loss: 0.997670, testing loss: 0.999288\n",
            "Epoch: 56, training loss: 0.981219, testing loss: 0.984290\n",
            "Epoch: 57, training loss: 0.964296, testing loss: 0.980133\n",
            "Epoch: 58, training loss: 0.955886, testing loss: 0.958173\n",
            "Epoch: 59, training loss: 0.949658, testing loss: 0.938699\n",
            "Epoch: 60, training loss: 0.946208, testing loss: 0.930537\n",
            "Epoch: 61, training loss: 0.942906, testing loss: 0.924770\n",
            "Epoch: 62, training loss: 0.940532, testing loss: 0.919826\n",
            "Epoch: 63, training loss: 0.937043, testing loss: 0.914103\n",
            "Epoch: 64, training loss: 0.935345, testing loss: 0.911563\n",
            "Epoch: 65, training loss: 0.934091, testing loss: 0.909067\n",
            "Epoch: 66, training loss: 0.932815, testing loss: 0.907495\n",
            "Epoch: 67, training loss: 0.930866, testing loss: 0.904486\n",
            "Epoch: 68, training loss: 0.929492, testing loss: 0.903280\n",
            "Epoch: 69, training loss: 0.927873, testing loss: 0.900632\n",
            "Epoch: 70, training loss: 0.926370, testing loss: 0.899037\n",
            "Epoch: 71, training loss: 0.924127, testing loss: 0.896004\n",
            "Epoch: 72, training loss: 0.923651, testing loss: 0.896459\n",
            "Epoch: 73, training loss: 0.922617, testing loss: 0.894821\n",
            "Epoch: 74, training loss: 0.921422, testing loss: 0.893471\n",
            "Epoch: 75, training loss: 0.920258, testing loss: 0.892527\n",
            "Epoch: 76, training loss: 0.919470, testing loss: 0.891400\n",
            "Epoch: 77, training loss: 0.917590, testing loss: 0.889079\n",
            "Epoch: 78, training loss: 0.916720, testing loss: 0.888336\n",
            "Epoch: 79, training loss: 0.916308, testing loss: 0.888533\n",
            "Epoch: 80, training loss: 0.914614, testing loss: 0.885958\n",
            "Epoch: 81, training loss: 0.914220, testing loss: 0.885745\n",
            "Epoch: 82, training loss: 0.911923, testing loss: 0.883074\n",
            "Epoch: 83, training loss: 0.912499, testing loss: 0.884071\n",
            "Epoch: 84, training loss: 0.911057, testing loss: 0.882415\n",
            "Epoch: 85, training loss: 0.910722, testing loss: 0.882280\n",
            "Epoch: 86, training loss: 0.909243, testing loss: 0.880061\n",
            "Epoch: 87, training loss: 0.908606, testing loss: 0.879925\n",
            "Epoch: 88, training loss: 0.907651, testing loss: 0.878657\n",
            "Epoch: 89, training loss: 0.907853, testing loss: 0.879077\n",
            "Epoch: 90, training loss: 0.906060, testing loss: 0.877160\n",
            "Epoch: 91, training loss: 0.906645, testing loss: 0.877929\n",
            "Epoch: 92, training loss: 0.905687, testing loss: 0.876831\n",
            "Epoch: 93, training loss: 0.905495, testing loss: 0.876746\n",
            "Epoch: 94, training loss: 0.904141, testing loss: 0.875130\n",
            "Epoch: 95, training loss: 0.903106, testing loss: 0.874010\n",
            "Epoch: 96, training loss: 0.902123, testing loss: 0.872748\n",
            "Epoch: 97, training loss: 0.901651, testing loss: 0.872412\n",
            "Epoch: 98, training loss: 0.901587, testing loss: 0.872421\n",
            "Epoch: 99, training loss: 0.900926, testing loss: 0.871911\n",
            "Epoch: 100, training loss: 0.899626, testing loss: 0.870421\n",
            "Epoch: 101, training loss: 0.900774, testing loss: 0.871833\n",
            "Epoch: 102, training loss: 0.899517, testing loss: 0.870533\n",
            "Epoch: 103, training loss: 0.900086, testing loss: 0.871743\n",
            "Epoch: 104, training loss: 0.898024, testing loss: 0.868858\n",
            "Epoch: 105, training loss: 0.898424, testing loss: 0.869586\n",
            "Epoch: 106, training loss: 0.897745, testing loss: 0.868886\n",
            "Epoch: 107, training loss: 0.895549, testing loss: 0.866067\n",
            "Epoch: 108, training loss: 0.896424, testing loss: 0.867528\n",
            "Epoch: 109, training loss: 0.895971, testing loss: 0.867130\n",
            "Epoch: 110, training loss: 0.894664, testing loss: 0.865542\n",
            "Epoch: 111, training loss: 0.894232, testing loss: 0.865261\n",
            "Epoch: 112, training loss: 0.894167, testing loss: 0.865497\n",
            "Epoch: 113, training loss: 0.893379, testing loss: 0.864413\n",
            "Epoch: 114, training loss: 0.893139, testing loss: 0.864354\n",
            "Epoch: 115, training loss: 0.890808, testing loss: 0.861631\n",
            "Epoch: 116, training loss: 0.891755, testing loss: 0.862555\n",
            "Epoch: 117, training loss: 0.890735, testing loss: 0.861720\n",
            "Epoch: 118, training loss: 0.891240, testing loss: 0.862602\n",
            "Epoch: 119, training loss: 0.890744, testing loss: 0.861910\n",
            "Epoch: 120, training loss: 0.890079, testing loss: 0.861610\n",
            "Epoch: 121, training loss: 0.889283, testing loss: 0.860318\n",
            "Epoch: 122, training loss: 0.889309, testing loss: 0.860826\n",
            "Epoch: 123, training loss: 0.887924, testing loss: 0.859188\n",
            "Epoch: 124, training loss: 0.888120, testing loss: 0.859564\n",
            "Epoch: 125, training loss: 0.886712, testing loss: 0.857744\n",
            "Epoch: 126, training loss: 0.885766, testing loss: 0.856851\n",
            "Epoch: 127, training loss: 0.886077, testing loss: 0.857528\n",
            "Epoch: 128, training loss: 0.885964, testing loss: 0.857292\n",
            "Epoch: 129, training loss: 0.885902, testing loss: 0.857721\n",
            "Epoch: 130, training loss: 0.885417, testing loss: 0.857156\n",
            "Epoch: 131, training loss: 0.886103, testing loss: 0.858162\n",
            "Epoch: 132, training loss: 0.883984, testing loss: 0.855668\n",
            "Epoch: 133, training loss: 0.884498, testing loss: 0.856604\n",
            "Epoch: 134, training loss: 0.882601, testing loss: 0.854420\n",
            "Epoch: 135, training loss: 0.883388, testing loss: 0.855285\n",
            "Epoch: 136, training loss: 0.882854, testing loss: 0.854982\n",
            "Epoch: 137, training loss: 0.881254, testing loss: 0.853159\n",
            "Epoch: 138, training loss: 0.880466, testing loss: 0.852369\n",
            "Epoch: 139, training loss: 0.881720, testing loss: 0.853901\n",
            "Epoch: 140, training loss: 0.880642, testing loss: 0.852926\n",
            "Epoch: 141, training loss: 0.879888, testing loss: 0.851964\n",
            "Epoch: 142, training loss: 0.879161, testing loss: 0.851624\n",
            "Epoch: 143, training loss: 0.878805, testing loss: 0.851178\n",
            "Epoch: 144, training loss: 0.878181, testing loss: 0.850636\n",
            "Epoch: 145, training loss: 0.877969, testing loss: 0.850410\n",
            "Epoch: 146, training loss: 0.878096, testing loss: 0.851007\n",
            "Epoch: 147, training loss: 0.877650, testing loss: 0.850440\n",
            "Epoch: 148, training loss: 0.877731, testing loss: 0.850978\n",
            "Epoch: 149, training loss: 0.876627, testing loss: 0.849470\n",
            "Epoch: 150, training loss: 0.876619, testing loss: 0.849969\n",
            "Epoch: 151, training loss: 0.874731, testing loss: 0.847484\n",
            "Epoch: 152, training loss: 0.874976, testing loss: 0.848136\n",
            "Epoch: 153, training loss: 0.875372, testing loss: 0.848730\n",
            "Epoch: 154, training loss: 0.874512, testing loss: 0.847672\n",
            "Epoch: 155, training loss: 0.873788, testing loss: 0.847328\n",
            "Epoch: 156, training loss: 0.873378, testing loss: 0.846895\n",
            "Epoch: 157, training loss: 0.873242, testing loss: 0.847054\n",
            "Epoch: 158, training loss: 0.873742, testing loss: 0.847979\n",
            "Epoch: 159, training loss: 0.873064, testing loss: 0.847073\n",
            "Epoch: 160, training loss: 0.872239, testing loss: 0.846459\n",
            "Epoch: 161, training loss: 0.871872, testing loss: 0.846190\n",
            "Epoch: 162, training loss: 0.872079, testing loss: 0.846445\n",
            "Epoch: 163, training loss: 0.869897, testing loss: 0.843982\n",
            "Epoch: 164, training loss: 0.869525, testing loss: 0.843761\n",
            "Epoch: 165, training loss: 0.868583, testing loss: 0.843098\n",
            "Epoch: 166, training loss: 0.869449, testing loss: 0.843900\n",
            "Epoch: 167, training loss: 0.867964, testing loss: 0.842486\n",
            "Epoch: 168, training loss: 0.868656, testing loss: 0.843733\n",
            "Epoch: 169, training loss: 0.868075, testing loss: 0.843175\n",
            "Epoch: 170, training loss: 0.867904, testing loss: 0.843060\n",
            "Epoch: 171, training loss: 0.867499, testing loss: 0.842985\n",
            "Epoch: 172, training loss: 0.866392, testing loss: 0.841394\n",
            "Epoch: 173, training loss: 0.865746, testing loss: 0.840867\n",
            "Epoch: 174, training loss: 0.866657, testing loss: 0.842924\n",
            "Epoch: 175, training loss: 0.864534, testing loss: 0.840415\n",
            "Epoch: 176, training loss: 0.866832, testing loss: 0.843311\n",
            "Epoch: 177, training loss: 0.865484, testing loss: 0.841625\n",
            "Epoch: 178, training loss: 0.864013, testing loss: 0.840138\n",
            "Epoch: 179, training loss: 0.862730, testing loss: 0.839201\n",
            "Epoch: 180, training loss: 0.863854, testing loss: 0.840219\n",
            "Epoch: 181, training loss: 0.862986, testing loss: 0.839689\n",
            "Epoch: 182, training loss: 0.863313, testing loss: 0.840806\n",
            "Epoch: 183, training loss: 0.863610, testing loss: 0.840650\n",
            "Epoch: 184, training loss: 0.862208, testing loss: 0.839421\n",
            "Epoch: 185, training loss: 0.861902, testing loss: 0.839231\n",
            "Epoch: 186, training loss: 0.861890, testing loss: 0.839494\n",
            "Epoch: 187, training loss: 0.860321, testing loss: 0.837999\n",
            "Epoch: 188, training loss: 0.861589, testing loss: 0.839985\n",
            "Epoch: 189, training loss: 0.860826, testing loss: 0.839341\n",
            "Epoch: 190, training loss: 0.861019, testing loss: 0.839472\n",
            "Epoch: 191, training loss: 0.859677, testing loss: 0.838325\n",
            "Epoch: 192, training loss: 0.859070, testing loss: 0.837437\n",
            "Epoch: 193, training loss: 0.859195, testing loss: 0.838451\n",
            "Epoch: 194, training loss: 0.857756, testing loss: 0.836736\n",
            "Epoch: 195, training loss: 0.856674, testing loss: 0.835706\n",
            "Epoch: 196, training loss: 0.858899, testing loss: 0.838727\n",
            "Epoch: 197, training loss: 0.857211, testing loss: 0.836733\n",
            "Epoch: 198, training loss: 0.857042, testing loss: 0.836909\n",
            "Epoch: 199, training loss: 0.856725, testing loss: 0.836610\n",
            "Epoch: 200, training loss: 0.858378, testing loss: 0.836848\n",
            "Epoch: 201, training loss: 0.856702, testing loss: 0.836652\n",
            "Epoch: 202, training loss: 0.855225, testing loss: 0.835761\n",
            "Epoch: 203, training loss: 0.855316, testing loss: 0.836359\n",
            "Epoch: 204, training loss: 0.854340, testing loss: 0.835252\n",
            "Epoch: 205, training loss: 0.855956, testing loss: 0.837970\n",
            "Epoch: 206, training loss: 0.853819, testing loss: 0.835305\n",
            "Epoch: 207, training loss: 0.853551, testing loss: 0.835239\n",
            "Epoch: 208, training loss: 0.854262, testing loss: 0.836568\n",
            "Epoch: 209, training loss: 0.852700, testing loss: 0.834438\n",
            "Epoch: 210, training loss: 0.852511, testing loss: 0.834680\n",
            "Epoch: 211, training loss: 0.852344, testing loss: 0.834552\n",
            "Epoch: 212, training loss: 0.851324, testing loss: 0.834150\n",
            "Epoch: 213, training loss: 0.850265, testing loss: 0.833057\n",
            "Epoch: 214, training loss: 0.849163, testing loss: 0.831943\n",
            "Epoch: 215, training loss: 0.850853, testing loss: 0.834121\n",
            "Epoch: 216, training loss: 0.849813, testing loss: 0.832628\n",
            "Epoch: 217, training loss: 0.850635, testing loss: 0.834220\n",
            "Epoch: 218, training loss: 0.848529, testing loss: 0.831771\n",
            "Epoch: 219, training loss: 0.849996, testing loss: 0.834278\n",
            "Epoch: 220, training loss: 0.849181, testing loss: 0.833400\n",
            "Epoch: 221, training loss: 0.848010, testing loss: 0.832127\n",
            "Epoch: 222, training loss: 0.847303, testing loss: 0.831737\n",
            "Epoch: 223, training loss: 0.846831, testing loss: 0.831365\n",
            "Epoch: 224, training loss: 0.846877, testing loss: 0.831607\n",
            "Epoch: 225, training loss: 0.845418, testing loss: 0.830481\n",
            "Epoch: 226, training loss: 0.847337, testing loss: 0.832771\n",
            "Epoch: 227, training loss: 0.846693, testing loss: 0.832279\n",
            "Epoch: 228, training loss: 0.846246, testing loss: 0.832050\n",
            "Epoch: 229, training loss: 0.845543, testing loss: 0.831645\n",
            "Epoch: 230, training loss: 0.846010, testing loss: 0.832383\n",
            "Epoch: 231, training loss: 0.844726, testing loss: 0.830957\n",
            "Epoch: 232, training loss: 0.843572, testing loss: 0.830244\n",
            "Epoch: 233, training loss: 0.844063, testing loss: 0.830836\n",
            "Epoch: 234, training loss: 0.842909, testing loss: 0.829907\n",
            "Epoch: 235, training loss: 0.842667, testing loss: 0.829781\n",
            "Epoch: 236, training loss: 0.844597, testing loss: 0.832317\n",
            "Epoch: 237, training loss: 0.841507, testing loss: 0.829086\n",
            "Epoch: 238, training loss: 0.841050, testing loss: 0.828887\n",
            "Epoch: 239, training loss: 0.842254, testing loss: 0.830514\n",
            "Epoch: 240, training loss: 0.841983, testing loss: 0.830407\n",
            "Epoch: 241, training loss: 0.843134, testing loss: 0.832015\n",
            "Epoch: 242, training loss: 0.842075, testing loss: 0.831207\n",
            "Epoch: 243, training loss: 0.839998, testing loss: 0.829016\n",
            "Epoch: 244, training loss: 0.839893, testing loss: 0.828631\n",
            "Epoch: 245, training loss: 0.839658, testing loss: 0.829157\n",
            "Epoch: 246, training loss: 0.839382, testing loss: 0.828999\n",
            "Epoch: 247, training loss: 0.840057, testing loss: 0.829977\n",
            "Epoch: 248, training loss: 0.840415, testing loss: 0.830606\n",
            "Epoch: 249, training loss: 0.838174, testing loss: 0.828246\n",
            "Epoch: 250, training loss: 0.837668, testing loss: 0.828192\n",
            "Epoch: 251, training loss: 0.837795, testing loss: 0.828533\n",
            "Epoch: 252, training loss: 0.838866, testing loss: 0.829895\n",
            "Epoch: 253, training loss: 0.837541, testing loss: 0.829106\n",
            "Epoch: 254, training loss: 0.837492, testing loss: 0.828969\n",
            "Epoch: 255, training loss: 0.836818, testing loss: 0.828277\n",
            "Epoch: 256, training loss: 0.836728, testing loss: 0.828103\n",
            "Epoch: 257, training loss: 0.836512, testing loss: 0.828544\n",
            "Epoch: 258, training loss: 0.835468, testing loss: 0.827233\n",
            "Epoch: 259, training loss: 0.835950, testing loss: 0.828749\n",
            "Epoch: 260, training loss: 0.834744, testing loss: 0.827345\n",
            "Epoch: 261, training loss: 0.834370, testing loss: 0.826997\n",
            "Epoch: 262, training loss: 0.833902, testing loss: 0.827291\n",
            "Epoch: 263, training loss: 0.834263, testing loss: 0.827811\n",
            "Epoch: 264, training loss: 0.833606, testing loss: 0.826898\n",
            "Epoch: 265, training loss: 0.833014, testing loss: 0.826421\n",
            "Epoch: 266, training loss: 0.833042, testing loss: 0.827136\n",
            "Epoch: 267, training loss: 0.832500, testing loss: 0.826823\n",
            "Epoch: 268, training loss: 0.832524, testing loss: 0.826778\n",
            "Epoch: 269, training loss: 0.832532, testing loss: 0.827099\n",
            "Epoch: 270, training loss: 0.831612, testing loss: 0.826534\n",
            "Epoch: 271, training loss: 0.831479, testing loss: 0.826406\n",
            "Epoch: 272, training loss: 0.831268, testing loss: 0.826336\n",
            "Epoch: 273, training loss: 0.831576, testing loss: 0.827359\n",
            "Epoch: 274, training loss: 0.831972, testing loss: 0.827608\n",
            "Epoch: 275, training loss: 0.831229, testing loss: 0.826786\n",
            "Epoch: 276, training loss: 0.831157, testing loss: 0.827699\n",
            "Epoch: 277, training loss: 0.829884, testing loss: 0.826254\n",
            "Epoch: 278, training loss: 0.829348, testing loss: 0.825488\n",
            "Epoch: 279, training loss: 0.829199, testing loss: 0.825489\n",
            "Epoch: 280, training loss: 0.829827, testing loss: 0.827166\n",
            "Epoch: 281, training loss: 0.829392, testing loss: 0.826259\n",
            "Epoch: 282, training loss: 0.828733, testing loss: 0.826035\n",
            "Epoch: 283, training loss: 0.827428, testing loss: 0.825177\n",
            "Epoch: 284, training loss: 0.828466, testing loss: 0.826790\n",
            "Epoch: 285, training loss: 0.827098, testing loss: 0.825065\n",
            "Epoch: 286, training loss: 0.827407, testing loss: 0.825294\n",
            "Epoch: 287, training loss: 0.826708, testing loss: 0.824978\n",
            "Epoch: 288, training loss: 0.826276, testing loss: 0.824575\n",
            "Epoch: 289, training loss: 0.825501, testing loss: 0.824208\n",
            "Epoch: 290, training loss: 0.827211, testing loss: 0.826806\n",
            "Epoch: 291, training loss: 0.826686, testing loss: 0.826250\n",
            "Epoch: 292, training loss: 0.825216, testing loss: 0.824614\n",
            "Epoch: 293, training loss: 0.824725, testing loss: 0.824648\n",
            "Epoch: 294, training loss: 0.822818, testing loss: 0.822255\n",
            "Epoch: 295, training loss: 0.824594, testing loss: 0.825292\n",
            "Epoch: 296, training loss: 0.824479, testing loss: 0.824762\n",
            "Epoch: 297, training loss: 0.825344, testing loss: 0.826587\n",
            "Epoch: 298, training loss: 0.823800, testing loss: 0.824779\n",
            "Epoch: 299, training loss: 0.822769, testing loss: 0.823817\n",
            "Epoch: 300, training loss: 0.824961, testing loss: 0.827132\n",
            "Finished\n"
          ],
          "name": "stdout"
        }
      ]
    },
    {
      "cell_type": "code",
      "metadata": {
        "id": "OqSt4qHuswNX",
        "colab_type": "code",
        "colab": {
          "base_uri": "https://localhost:8080/",
          "height": 281
        },
        "outputId": "af22aee4-74e9-4678-e877-e7bfd03f7ad2"
      },
      "source": [
        "plt.plot(epoch_list, loss_train_list, 'g', label = 'training loss')\n",
        "plt.plot(epoch_list, loss_test_list, 'b', label = 'testing loss')\n",
        "plt.title('Training Loss & Testing Loss')\n",
        "plt.legend()\n",
        "plt.show()\n"
      ],
      "execution_count": 14,
      "outputs": [
        {
          "output_type": "display_data",
          "data": {
            "image/png": "[encoded data removed]",
            "text/plain": [
              "<Figure size 432x288 with 1 Axes>"
            ]
          },
          "metadata": {
            "tags": [],
            "needs_background": "light"
          }
        }
      ]
    },
    {
      "cell_type": "markdown",
      "metadata": {
        "id": "1die6sdGYmP7",
        "colab_type": "text"
      },
      "source": [
        "# Save Model"
      ]
    },
    {
      "cell_type": "code",
      "metadata": {
        "id": "_U1i5ee_Ymcr",
        "colab_type": "code",
        "colab": {
          "base_uri": "https://localhost:8080/",
          "height": 72
        },
        "outputId": "30410a56-db21-4363-e161-8c532d3513b2"
      },
      "source": [
        "torch.save(net, 'AutoNet1.pt')"
      ],
      "execution_count": 14,
      "outputs": [
        {
          "output_type": "stream",
          "text": [
            "/usr/local/lib/python3.6/dist-packages/torch/serialization.py:360: UserWarning: Couldn't retrieve source code for container of type Net. It won't be checked for correctness upon loading.\n",
            "  \"type \" + obj.__name__ + \". It won't be checked \"\n"
          ],
          "name": "stderr"
        }
      ]
    },
    {
      "cell_type": "code",
      "metadata": {
        "id": "Ec0A74kZ4f5M",
        "colab_type": "code",
        "colab": {
          "base_uri": "https://localhost:8080/",
          "height": 72
        },
        "outputId": "05e40145-0ce4-4601-ba2a-a704dcc03407"
      },
      "source": [
        "torch.save(net, 'AutoNet2.pt')"
      ],
      "execution_count": 15,
      "outputs": [
        {
          "output_type": "stream",
          "text": [
            "/usr/local/lib/python3.6/dist-packages/torch/serialization.py:360: UserWarning: Couldn't retrieve source code for container of type Net. It won't be checked for correctness upon loading.\n",
            "  \"type \" + obj.__name__ + \". It won't be checked \"\n"
          ],
          "name": "stderr"
        }
      ]
    },
    {
      "cell_type": "markdown",
      "metadata": {
        "id": "ZCXTfhKXYmsY",
        "colab_type": "text"
      },
      "source": [
        "# Load Model"
      ]
    },
    {
      "cell_type": "code",
      "metadata": {
        "id": "d91iq95zYm6I",
        "colab_type": "code",
        "colab": {}
      },
      "source": [
        "autoNet = torch.load('AutoNet2.pt')\n",
        "autoNet.eval()"
      ],
      "execution_count": 0,
      "outputs": []
    }
  ]
}